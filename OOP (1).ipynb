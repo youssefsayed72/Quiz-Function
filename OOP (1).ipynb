{
 "cells": [
  {
   "cell_type": "markdown",
   "id": "5906f87c-d5cf-4d10-9e08-f17afdf1644a",
   "metadata": {},
   "source": [
    "sdfghjkljhgfdsrdtfygui"
   ]
  },
  {
   "cell_type": "markdown",
   "id": "e971f56c-26ec-43e0-81ef-4e32b5b0c69b",
   "metadata": {},
   "source": [
    " # wertyhujikjdsaasfetergdfhvgyjfhbd"
   ]
  },
  {
   "cell_type": "raw",
   "id": "f431328c-b9a8-45fa-894d-4d23a9b3ff2d",
   "metadata": {},
   "source": [
    "wsedfghjkl,"
   ]
  },
  {
   "cell_type": "markdown",
   "id": "eccc67be-cca5-42d1-95b9-2868ace629e4",
   "metadata": {},
   "source": [
    "awsedrfghjklasdf"
   ]
  },
  {
   "cell_type": "code",
   "execution_count": 5,
   "id": "b77049b3-384f-4b7f-becf-bef98aa6cacd",
   "metadata": {},
   "outputs": [
    {
     "data": {
      "text/plain": [
       "5"
      ]
     },
     "execution_count": 5,
     "metadata": {},
     "output_type": "execute_result"
    }
   ],
   "source": [
    "1+4"
   ]
  },
  {
   "cell_type": "markdown",
   "id": "d8a48624-f0da-4199-a832-315df01ff150",
   "metadata": {},
   "source": [
    "ersdtfhgjk"
   ]
  },
  {
   "cell_type": "raw",
   "id": "dcbb1279-ba41-4c8c-87b8-0a1f25fc1735",
   "metadata": {},
   "source": []
  },
  {
   "cell_type": "code",
   "execution_count": 8,
   "id": "13cb1181-0314-4173-947d-bfe8eb4ccf4e",
   "metadata": {},
   "outputs": [
    {
     "name": "stdout",
     "output_type": "stream",
     "text": [
      "56\n",
      "hgjihih\n"
     ]
    }
   ],
   "source": [
    "print (56)\n",
    "print (\"hgjihih\")"
   ]
  },
  {
   "cell_type": "code",
   "execution_count": 7,
   "id": "024ad09a-e6b0-49d1-96f4-5a49901a1847",
   "metadata": {},
   "outputs": [
    {
     "name": "stdout",
     "output_type": "stream",
     "text": [
      "hgjihih\n"
     ]
    }
   ],
   "source": []
  },
  {
   "cell_type": "code",
   "execution_count": 4,
   "id": "448c2349-65c5-4a05-8d21-21dbec1885da",
   "metadata": {},
   "outputs": [],
   "source": [
    "a= \"error\""
   ]
  },
  {
   "cell_type": "code",
   "execution_count": 5,
   "id": "31700000-22f8-4bcd-ab8f-4e0fc24a8393",
   "metadata": {},
   "outputs": [
    {
     "data": {
      "text/plain": [
       "'error'"
      ]
     },
     "execution_count": 5,
     "metadata": {},
     "output_type": "execute_result"
    }
   ],
   "source": [
    "a"
   ]
  },
  {
   "cell_type": "code",
   "execution_count": 7,
   "id": "a00bf08b-f23b-4b04-84a2-f8df977be722",
   "metadata": {},
   "outputs": [
    {
     "name": "stdout",
     "output_type": "stream",
     "text": [
      "error\n"
     ]
    }
   ],
   "source": [
    "try :\n",
    "    print(i)\n",
    "except:\n",
    "    print(\"error\")"
   ]
  },
  {
   "cell_type": "code",
   "execution_count": null,
   "id": "0d6d73be-c397-46a2-8fe6-3c369952f1a0",
   "metadata": {},
   "outputs": [],
   "source": [
    "range \n",
    "name --> jehad\n",
    "get \n",
    "update \n",
    "split\n",
    "strip\n"
   ]
  },
  {
   "cell_type": "code",
   "execution_count": 14,
   "id": "2bac6322-72fb-4298-b858-82254cab4909",
   "metadata": {},
   "outputs": [],
   "source": [
    "def name():\n",
    "    print(\"jehad \")   "
   ]
  },
  {
   "cell_type": "code",
   "execution_count": 15,
   "id": "be03eb44-ca31-4399-ba13-772d556ed42c",
   "metadata": {},
   "outputs": [
    {
     "name": "stdout",
     "output_type": "stream",
     "text": [
      "jehad \n"
     ]
    }
   ],
   "source": [
    "name()"
   ]
  },
  {
   "cell_type": "code",
   "execution_count": 38,
   "id": "5a1d4191-de5f-4164-a227-32e8cc2e8039",
   "metadata": {},
   "outputs": [],
   "source": [
    "def getname(name1 , name2):\n",
    "    print(\"hi {} and {}\" .format(name1,name2))"
   ]
  },
  {
   "cell_type": "code",
   "execution_count": 39,
   "id": "4ef7dbb1-f484-4a22-8893-d3d142ef8f84",
   "metadata": {},
   "outputs": [
    {
     "name": "stdin",
     "output_type": "stream",
     "text": [
      "f name u\n",
      "l name  t\n"
     ]
    }
   ],
   "source": [
    "x = input(\"f name\")\n",
    "y= input (\"l name \")"
   ]
  },
  {
   "cell_type": "code",
   "execution_count": null,
   "id": "b83dbc05-1341-4a84-ad32-4c896a2787a4",
   "metadata": {},
   "outputs": [],
   "source": [
    "x = \"rg\"\n",
    "y=\"rgy\""
   ]
  },
  {
   "cell_type": "code",
   "execution_count": 41,
   "id": "3a964be0-73d6-423a-9f05-3db97cf2d8bc",
   "metadata": {},
   "outputs": [
    {
     "name": "stdout",
     "output_type": "stream",
     "text": [
      "hi u and t\n"
     ]
    }
   ],
   "source": [
    "getname(x,y)"
   ]
  },
  {
   "cell_type": "code",
   "execution_count": 34,
   "id": "0706c863-428d-4a68-9bee-d837bfd71dfd",
   "metadata": {},
   "outputs": [],
   "source": [
    "def add_to (u,t):\n",
    "    return u*t"
   ]
  },
  {
   "cell_type": "code",
   "execution_count": 35,
   "id": "940287aa-ae47-4566-8466-cb15e2d62800",
   "metadata": {},
   "outputs": [],
   "source": [
    "x = 7\n",
    "y = 8"
   ]
  },
  {
   "cell_type": "code",
   "execution_count": 36,
   "id": "039a4415-8c96-4e29-a9ef-e25f908f6036",
   "metadata": {},
   "outputs": [
    {
     "data": {
      "text/plain": [
       "56"
      ]
     },
     "execution_count": 36,
     "metadata": {},
     "output_type": "execute_result"
    }
   ],
   "source": [
    "add_to(x,y)"
   ]
  },
  {
   "cell_type": "code",
   "execution_count": 37,
   "id": "3897847d-0087-4d7f-91ab-e2858762fcbd",
   "metadata": {},
   "outputs": [
    {
     "data": {
      "text/plain": [
       "63"
      ]
     },
     "execution_count": 37,
     "metadata": {},
     "output_type": "execute_result"
    }
   ],
   "source": [
    "add_to(7,9)"
   ]
  },
  {
   "cell_type": "code",
   "execution_count": 47,
   "id": "10ecafcf-f22a-42c4-99fe-5c30e05f412f",
   "metadata": {},
   "outputs": [],
   "source": [
    "def my_func (fname):\n",
    "    print(fname+\" \"+\"loly\")"
   ]
  },
  {
   "cell_type": "code",
   "execution_count": 48,
   "id": "20d5d977-86ea-45e6-92b7-d8ac7dce2a58",
   "metadata": {},
   "outputs": [
    {
     "name": "stdout",
     "output_type": "stream",
     "text": [
      "me     loly\n",
      "mo     loly\n",
      "mi     loly\n"
     ]
    }
   ],
   "source": [
    "my_func(\"me\")\n",
    "my_func(\"mo\")\n",
    "my_func(\"mi\")"
   ]
  },
  {
   "cell_type": "code",
   "execution_count": 6,
   "id": "440a8ede-8303-4389-84f1-456df89b96f5",
   "metadata": {},
   "outputs": [],
   "source": [
    "def my_func (fname,lname):\n",
    "    print(fname + \"\" +lname)"
   ]
  },
  {
   "cell_type": "code",
   "execution_count": 7,
   "id": "2df9a06c-7fdd-4bbf-b247-abd34da8d946",
   "metadata": {},
   "outputs": [
    {
     "name": "stdout",
     "output_type": "stream",
     "text": [
      "kkh\n"
     ]
    }
   ],
   "source": [
    "my_func(\"kk\",\"h\")"
   ]
  },
  {
   "cell_type": "code",
   "execution_count": 37,
   "id": "59195210-27f1-4261-a5fd-ead0625e221b",
   "metadata": {},
   "outputs": [],
   "source": [
    "def my_func(*x):\n",
    "    print(\"my name is \" + x[4])\n",
    "    "
   ]
  },
  {
   "cell_type": "code",
   "execution_count": 38,
   "id": "2d721521-32ca-4752-8be0-c90c573cfeca",
   "metadata": {},
   "outputs": [
    {
     "name": "stdout",
     "output_type": "stream",
     "text": [
      "my name is hgfhj\n"
     ]
    }
   ],
   "source": [
    "my_func(\"loly\" , \"ko\",\"mo\" , \"ggo\",\"hgfhj\",\"fhg\",\"ygyu\")"
   ]
  },
  {
   "cell_type": "code",
   "execution_count": 52,
   "id": "57fe88e4-7794-46b7-a010-58866f01ca9b",
   "metadata": {},
   "outputs": [],
   "source": [
    "def my_func (fname,lname,sname,g):\n",
    "    print(\"my name is \" + sname)"
   ]
  },
  {
   "cell_type": "code",
   "execution_count": 53,
   "id": "8ef359be-2678-4abe-b05e-11d95f50e221",
   "metadata": {},
   "outputs": [
    {
     "name": "stdout",
     "output_type": "stream",
     "text": [
      "my name is go\n"
     ]
    }
   ],
   "source": [
    "my_func(fname=\"loly\" , lname=\"mo\" , sname=\"go\",g=\"g\" )"
   ]
  },
  {
   "cell_type": "code",
   "execution_count": 54,
   "id": "8000367f-6f83-4ffa-99ba-7d126a32ca68",
   "metadata": {},
   "outputs": [],
   "source": [
    "def my_func(**x):\n",
    "    print(\"my name is \" + x[\"sname\"])"
   ]
  },
  {
   "cell_type": "code",
   "execution_count": 55,
   "id": "bf5a2ac9-02e6-457d-83eb-8106be773374",
   "metadata": {},
   "outputs": [
    {
     "name": "stdout",
     "output_type": "stream",
     "text": [
      "my name is go\n"
     ]
    }
   ],
   "source": [
    "my_func(lname=\"loly\",fname=\"mo\",sname=\"go\",g = \"hi\" , m = \"gh\")"
   ]
  },
  {
   "cell_type": "code",
   "execution_count": 96,
   "id": "2e1b4e64-f295-403c-8db2-c7f604b89a69",
   "metadata": {},
   "outputs": [],
   "source": [
    "def my_fun (x):\n",
    "    return x*4"
   ]
  },
  {
   "cell_type": "code",
   "execution_count": 101,
   "id": "b8ce52c7-d36c-441c-a51e-5d244f6a3701",
   "metadata": {},
   "outputs": [
    {
     "data": {
      "text/plain": [
       "32"
      ]
     },
     "execution_count": 101,
     "metadata": {},
     "output_type": "execute_result"
    }
   ],
   "source": [
    "my_fun(8)"
   ]
  },
  {
   "cell_type": "code",
   "execution_count": 98,
   "id": "b80e6db3-c78e-4649-b1d1-9edfa020bc2e",
   "metadata": {},
   "outputs": [
    {
     "data": {
      "text/plain": [
       "<function __main__.<lambda>(x)>"
      ]
     },
     "execution_count": 98,
     "metadata": {},
     "output_type": "execute_result"
    }
   ],
   "source": [
    "lambda  x: x*4"
   ]
  },
  {
   "cell_type": "code",
   "execution_count": 99,
   "id": "abf1c7df-d30c-4388-b182-55ddf143c601",
   "metadata": {},
   "outputs": [],
   "source": [
    "y = lambda  x: x*4"
   ]
  },
  {
   "cell_type": "code",
   "execution_count": 100,
   "id": "5ec30972-5563-4bf6-ab99-659f168c5033",
   "metadata": {},
   "outputs": [
    {
     "data": {
      "text/plain": [
       "32"
      ]
     },
     "execution_count": 100,
     "metadata": {},
     "output_type": "execute_result"
    }
   ],
   "source": [
    "y(8)"
   ]
  },
  {
   "cell_type": "code",
   "execution_count": null,
   "id": "3aac54d4-6622-421f-a746-f73fee469412",
   "metadata": {},
   "outputs": [],
   "source": []
  },
  {
   "cell_type": "code",
   "execution_count": null,
   "id": "4ceedcca-92d1-403a-a20a-20f0f03146db",
   "metadata": {},
   "outputs": [],
   "source": []
  },
  {
   "cell_type": "code",
   "execution_count": 56,
   "id": "612f29b6-ea28-4b91-a716-0bbc51fe94ff",
   "metadata": {},
   "outputs": [],
   "source": [
    " x: x+5"
   ]
  },
  {
   "cell_type": "code",
   "execution_count": 58,
   "id": "92154e44-f579-46f9-9383-b89ab0ffcbaa",
   "metadata": {},
   "outputs": [
    {
     "data": {
      "text/plain": [
       "11"
      ]
     },
     "execution_count": 58,
     "metadata": {},
     "output_type": "execute_result"
    }
   ],
   "source": [
    "my_func(6)"
   ]
  },
  {
   "cell_type": "code",
   "execution_count": 62,
   "id": "899eab2f-ff47-4cd4-aa1e-4b61b336ea5e",
   "metadata": {},
   "outputs": [
    {
     "data": {
      "text/plain": [
       "<function __main__.<lambda>(x)>"
      ]
     },
     "execution_count": 62,
     "metadata": {},
     "output_type": "execute_result"
    }
   ],
   "source": [
    "lambda x: x+5"
   ]
  },
  {
   "cell_type": "code",
   "execution_count": 63,
   "id": "12f1cd9e-2280-4921-abb6-04496eb9be0a",
   "metadata": {},
   "outputs": [],
   "source": [
    "t = lambda x: x+5"
   ]
  },
  {
   "cell_type": "code",
   "execution_count": 64,
   "id": "77ccdc10-84f6-4e7a-8d1e-eb0a7c24ec56",
   "metadata": {},
   "outputs": [
    {
     "data": {
      "text/plain": [
       "13"
      ]
     },
     "execution_count": 64,
     "metadata": {},
     "output_type": "execute_result"
    }
   ],
   "source": [
    "t(8)"
   ]
  },
  {
   "cell_type": "code",
   "execution_count": 66,
   "id": "4f263dc1-44ec-4b7f-bc2a-cbd094c4bb36",
   "metadata": {},
   "outputs": [
    {
     "data": {
      "text/plain": [
       "<function __main__.<lambda>(n)>"
      ]
     },
     "execution_count": 66,
     "metadata": {},
     "output_type": "execute_result"
    }
   ],
   "source": [
    "lambda n:\"even\" if lan(n)%2 ==0 else n[0]"
   ]
  },
  {
   "cell_type": "code",
   "execution_count": 77,
   "id": "5cf79ff0-5f4c-41fc-b242-8e2a61b27449",
   "metadata": {},
   "outputs": [],
   "source": [
    "n =\"jeha\""
   ]
  },
  {
   "cell_type": "code",
   "execution_count": 78,
   "id": "f77346f5-b746-48b1-9494-5181be5a98ec",
   "metadata": {},
   "outputs": [
    {
     "data": {
      "text/plain": [
       "4"
      ]
     },
     "execution_count": 78,
     "metadata": {},
     "output_type": "execute_result"
    }
   ],
   "source": [
    "len(n)"
   ]
  },
  {
   "cell_type": "code",
   "execution_count": 79,
   "id": "981e80bd-c0e6-4679-a85a-2005fe5b5528",
   "metadata": {},
   "outputs": [
    {
     "data": {
      "text/plain": [
       "<function __main__.<lambda>(n)>"
      ]
     },
     "execution_count": 79,
     "metadata": {},
     "output_type": "execute_result"
    }
   ],
   "source": [
    "lambda n:\"even\" if len(n)%2==0 else n[2]"
   ]
  },
  {
   "cell_type": "code",
   "execution_count": 80,
   "id": "37e1ce72-baed-41d5-b746-5a605e9511aa",
   "metadata": {},
   "outputs": [],
   "source": [
    "y = lambda n:\"even\" if len(n)%2==0 else n[2]"
   ]
  },
  {
   "cell_type": "code",
   "execution_count": 81,
   "id": "bad615c7-a150-44ad-9236-4f5e81536ff8",
   "metadata": {},
   "outputs": [
    {
     "data": {
      "text/plain": [
       "'even'"
      ]
     },
     "execution_count": 81,
     "metadata": {},
     "output_type": "execute_result"
    }
   ],
   "source": [
    "y(n)"
   ]
  },
  {
   "cell_type": "code",
   "execution_count": null,
   "id": "8f5fa14e-b8df-4018-8d0e-cfd269e7ce99",
   "metadata": {},
   "outputs": [],
   "source": [
    "lambda print function else "
   ]
  },
  {
   "cell_type": "code",
   "execution_count": null,
   "id": "aa0e0e49-945f-4836-a7d9-f5524e68d8fb",
   "metadata": {},
   "outputs": [],
   "source": [
    "print --> n:\"output\""
   ]
  },
  {
   "cell_type": "code",
   "execution_count": null,
   "id": "2e4bba8f-e97a-47c1-b005-ea23e63af3e3",
   "metadata": {},
   "outputs": [],
   "source": []
  },
  {
   "cell_type": "code",
   "execution_count": 82,
   "id": "0c9235cc-074d-4fc5-9ad7-93410355feb1",
   "metadata": {},
   "outputs": [],
   "source": [
    "def add_to (n):\n",
    "    return n*3"
   ]
  },
  {
   "cell_type": "code",
   "execution_count": 91,
   "id": "e4ba1560-156a-45cb-9425-27b8edc109ae",
   "metadata": {},
   "outputs": [
    {
     "data": {
      "text/plain": [
       "6"
      ]
     },
     "execution_count": 91,
     "metadata": {},
     "output_type": "execute_result"
    }
   ],
   "source": [
    "add_to(2)"
   ]
  },
  {
   "cell_type": "code",
   "execution_count": 86,
   "id": "0892f6cb-9630-4ba8-82ff-b6dae2523887",
   "metadata": {},
   "outputs": [],
   "source": [
    "m= [1,2,3,4,5]"
   ]
  },
  {
   "cell_type": "markdown",
   "id": "4f4f9949-6ca7-4a0b-bcf9-af14dd76f6f8",
   "metadata": {},
   "source": [
    "map(function,list)"
   ]
  },
  {
   "cell_type": "code",
   "execution_count": 95,
   "id": "d76af4ed-0ebb-4f39-bec3-350e6d3f5dda",
   "metadata": {},
   "outputs": [
    {
     "data": {
      "text/plain": [
       "[3, 6, 9, 12, 15]"
      ]
     },
     "execution_count": 95,
     "metadata": {},
     "output_type": "execute_result"
    }
   ],
   "source": [
    "list(map(add_to,m))"
   ]
  },
  {
   "cell_type": "code",
   "execution_count": null,
   "id": "c63ff20b-296d-416d-8a89-de416b87c3a7",
   "metadata": {},
   "outputs": [],
   "source": [
    "map(add_to,m)"
   ]
  },
  {
   "cell_type": "code",
   "execution_count": 94,
   "id": "4cae4db0-b9c4-46bb-b5b9-2f911e37e779",
   "metadata": {},
   "outputs": [],
   "source": [
    "t = \"y \""
   ]
  },
  {
   "cell_type": "code",
   "execution_count": null,
   "id": "f8e3ab96-e315-4c7b-86ad-bb9403176bf6",
   "metadata": {},
   "outputs": [],
   "source": [
    "int(t)"
   ]
  },
  {
   "cell_type": "code",
   "execution_count": null,
   "id": "611185dd-f28e-455d-85b9-e9f4b2a7bb87",
   "metadata": {},
   "outputs": [],
   "source": [
    "int(input(\"\"))"
   ]
  },
  {
   "cell_type": "code",
   "execution_count": 104,
   "id": "bebf6c48-912f-4306-884a-6afd2a40a871",
   "metadata": {},
   "outputs": [],
   "source": [
    "def my_fun(n):\n",
    "    if len(n)%2==0:\n",
    "        return \"even\"\n",
    "    else:\n",
    "        return n[0]"
   ]
  },
  {
   "cell_type": "code",
   "execution_count": 105,
   "id": "a461f655-74a4-4d06-9774-8d87562446ec",
   "metadata": {},
   "outputs": [
    {
     "data": {
      "text/plain": [
       "'even'"
      ]
     },
     "execution_count": 105,
     "metadata": {},
     "output_type": "execute_result"
    }
   ],
   "source": [
    "my_fun(\"ghgh\")"
   ]
  },
  {
   "cell_type": "code",
   "execution_count": 115,
   "id": "52524d73-10f8-4888-8c26-bb582fd72ac8",
   "metadata": {},
   "outputs": [],
   "source": [
    "l = [\"jehad\",\"mohamed\",\"youssef\",\"emad\"]"
   ]
  },
  {
   "cell_type": "code",
   "execution_count": 108,
   "id": "87ee240b-445a-43a4-8923-aa8cddf46e30",
   "metadata": {},
   "outputs": [
    {
     "data": {
      "text/plain": [
       "['j', 'm', 'y', 'even']"
      ]
     },
     "execution_count": 108,
     "metadata": {},
     "output_type": "execute_result"
    }
   ],
   "source": [
    "list(map(my_fun,m))"
   ]
  },
  {
   "cell_type": "code",
   "execution_count": 109,
   "id": "2a633ec6-226e-448a-afe9-c003c5e45f9d",
   "metadata": {},
   "outputs": [],
   "source": [
    "def my_fun(x,u,t):\n",
    "    return x%2==0"
   ]
  },
  {
   "cell_type": "code",
   "execution_count": 111,
   "id": "c084a706-6473-4275-a69e-a683c945c20e",
   "metadata": {},
   "outputs": [
    {
     "data": {
      "text/plain": [
       "False"
      ]
     },
     "execution_count": 111,
     "metadata": {},
     "output_type": "execute_result"
    }
   ],
   "source": [
    "my_fun(9)"
   ]
  },
  {
   "cell_type": "code",
   "execution_count": 112,
   "id": "3468284f-452b-416e-bba7-b1a7cdb5289a",
   "metadata": {},
   "outputs": [],
   "source": [
    "m = [6,9,4,6,3]"
   ]
  },
  {
   "cell_type": "code",
   "execution_count": 117,
   "id": "b08e1674-2f30-4f74-ae56-984f9fd651e1",
   "metadata": {},
   "outputs": [
    {
     "data": {
      "text/plain": [
       "[6, 4, 6]"
      ]
     },
     "execution_count": 117,
     "metadata": {},
     "output_type": "execute_result"
    }
   ],
   "source": [
    "list(filter(my_fun,m))"
   ]
  },
  {
   "cell_type": "code",
   "execution_count": null,
   "id": "9b1599db-b235-4cc5-8c24-6b9387b028df",
   "metadata": {},
   "outputs": [],
   "source": []
  },
  {
   "cell_type": "code",
   "execution_count": null,
   "id": "2bbbea00-fbc5-420f-ac0b-8f18cbb7f003",
   "metadata": {},
   "outputs": [],
   "source": []
  },
  {
   "cell_type": "code",
   "execution_count": 1,
   "id": "d5525639-165a-4c44-a1ab-04db606effd5",
   "metadata": {},
   "outputs": [],
   "source": [
    "def my_func(**k):\n",
    "    return x+y"
   ]
  },
  {
   "cell_type": "code",
   "execution_count": 3,
   "id": "89ea6eab-7177-4c8e-b964-fa14dc7c183d",
   "metadata": {},
   "outputs": [
    {
     "ename": "TypeError",
     "evalue": "my_func() takes 2 positional arguments but 4 were given",
     "output_type": "error",
     "traceback": [
      "\u001b[1;31m---------------------------------------------------------------------------\u001b[0m",
      "\u001b[1;31mTypeError\u001b[0m                                 Traceback (most recent call last)",
      "\u001b[1;32m~\\AppData\\Local\\Temp/ipykernel_17600/1903168616.py\u001b[0m in \u001b[0;36m<module>\u001b[1;34m\u001b[0m\n\u001b[1;32m----> 1\u001b[1;33m \u001b[0mmy_func\u001b[0m\u001b[1;33m(\u001b[0m\u001b[1;36m6\u001b[0m\u001b[1;33m,\u001b[0m\u001b[1;36m8\u001b[0m\u001b[1;33m,\u001b[0m\u001b[1;36m9\u001b[0m\u001b[1;33m,\u001b[0m\u001b[1;36m6\u001b[0m\u001b[1;33m)\u001b[0m\u001b[1;33m\u001b[0m\u001b[1;33m\u001b[0m\u001b[0m\n\u001b[0m",
      "\u001b[1;31mTypeError\u001b[0m: my_func() takes 2 positional arguments but 4 were given"
     ]
    }
   ],
   "source": [
    "my_func(6,8,9,6)"
   ]
  },
  {
   "cell_type": "code",
   "execution_count": 9,
   "id": "96faf97d-68bf-4b38-8c6f-8f7d3879e41b",
   "metadata": {},
   "outputs": [],
   "source": [
    "def my_fun(**k):\n",
    "    print(\"hi\"+k[\"o\"])"
   ]
  },
  {
   "cell_type": "code",
   "execution_count": 10,
   "id": "ec5a5cd3-b469-456e-a706-2502e0f587e5",
   "metadata": {},
   "outputs": [
    {
     "name": "stdout",
     "output_type": "stream",
     "text": [
      "hiby \n"
     ]
    }
   ],
   "source": [
    "my_fun(t=\"oi\",o=\"by \",i=\"ji\")"
   ]
  },
  {
   "cell_type": "code",
   "execution_count": 11,
   "id": "88b4c0ec-4f56-4249-9b02-0128d1133a4a",
   "metadata": {},
   "outputs": [],
   "source": [
    "def my_fun(*k):\n",
    "    print(\"hi\"+k[0])"
   ]
  },
  {
   "cell_type": "code",
   "execution_count": 12,
   "id": "b0946696-360d-4a6b-a7a0-a77125d5208b",
   "metadata": {},
   "outputs": [
    {
     "name": "stdout",
     "output_type": "stream",
     "text": [
      "hioi\n"
     ]
    }
   ],
   "source": [
    "my_fun(\"oi\",\"by \",\"ji\")"
   ]
  },
  {
   "cell_type": "code",
   "execution_count": 17,
   "id": "4e194c93-bb46-4e0f-ab08-e0319227cef5",
   "metadata": {},
   "outputs": [],
   "source": [
    "def sq(n):\n",
    "    return n**2"
   ]
  },
  {
   "cell_type": "code",
   "execution_count": null,
   "id": "47058d21-fb00-44d7-baa6-d50b42fe61c4",
   "metadata": {},
   "outputs": [],
   "source": [
    "lambda n:n**2"
   ]
  },
  {
   "cell_type": "code",
   "execution_count": 18,
   "id": "4de9e1fc-531e-4e32-b190-9b85f491cee6",
   "metadata": {},
   "outputs": [],
   "source": [
    "t = [1,2,3,4]"
   ]
  },
  {
   "cell_type": "code",
   "execution_count": 20,
   "id": "246adc96-ea94-4365-b906-9cade807a945",
   "metadata": {},
   "outputs": [
    {
     "data": {
      "text/plain": [
       "[1, 4, 9, 16]"
      ]
     },
     "execution_count": 20,
     "metadata": {},
     "output_type": "execute_result"
    }
   ],
   "source": [
    "list(map(sq,t))"
   ]
  },
  {
   "cell_type": "code",
   "execution_count": null,
   "id": "bee657dc-d330-460a-b4b5-a3c2267257fd",
   "metadata": {},
   "outputs": [],
   "source": []
  },
  {
   "cell_type": "code",
   "execution_count": 21,
   "id": "44ad4c1f-462b-4223-bed3-5ab2014651e1",
   "metadata": {},
   "outputs": [],
   "source": [
    "class person:\n",
    "    def __init__(self):\n",
    "        pass"
   ]
  },
  {
   "cell_type": "code",
   "execution_count": 22,
   "id": "3cce6e9c-c1fd-4704-81d0-d2c91de41be8",
   "metadata": {},
   "outputs": [],
   "source": [
    "c=person()"
   ]
  },
  {
   "cell_type": "code",
   "execution_count": 23,
   "id": "1dd7e3fa-4927-49b3-9c06-0e06263e68c3",
   "metadata": {},
   "outputs": [
    {
     "name": "stdout",
     "output_type": "stream",
     "text": [
      "<__main__.person object at 0x0000016843C20160>\n"
     ]
    }
   ],
   "source": [
    "print(c)"
   ]
  },
  {
   "cell_type": "code",
   "execution_count": 51,
   "id": "414d0898-3ee7-4067-a33c-ce046bcc1021",
   "metadata": {},
   "outputs": [],
   "source": [
    "class person:\n",
    "    def __init__(self,name,age):\n",
    "        self.name=name\n",
    "        self.age=age"
   ]
  },
  {
   "cell_type": "code",
   "execution_count": 47,
   "id": "f1ab701b-8151-49cc-b4a6-3d12e10c8a5b",
   "metadata": {},
   "outputs": [],
   "source": [
    "x = person(\"loly\",9)"
   ]
  },
  {
   "cell_type": "code",
   "execution_count": 48,
   "id": "5f2108b5-64ac-4a23-84ca-5d181ccad5df",
   "metadata": {},
   "outputs": [
    {
     "name": "stdout",
     "output_type": "stream",
     "text": [
      "<__main__.person object at 0x0000016843D02730>\n"
     ]
    }
   ],
   "source": [
    "print(x)"
   ]
  },
  {
   "cell_type": "code",
   "execution_count": 50,
   "id": "5d8d5b2b-5bae-4d2f-b831-d6795bf0f5fc",
   "metadata": {},
   "outputs": [
    {
     "name": "stdout",
     "output_type": "stream",
     "text": [
      "loly\n",
      "9\n"
     ]
    }
   ],
   "source": [
    "print(x.name)\n",
    "print(x.age)"
   ]
  },
  {
   "cell_type": "code",
   "execution_count": 33,
   "id": "4c7ad101-43da-494e-98a9-2e80920e7256",
   "metadata": {},
   "outputs": [],
   "source": [
    "class person:\n",
    "    num_per=0\n",
    "    def __init__(self,name,age):\n",
    "        person.num_per+=1 \n",
    "        self.name=name\n",
    "        self.age=age"
   ]
  },
  {
   "cell_type": "code",
   "execution_count": 34,
   "id": "34417d1c-d065-4b5c-bf1d-0b115bb29c00",
   "metadata": {},
   "outputs": [],
   "source": [
    "person_1 = person(\"hassan\",10)"
   ]
  },
  {
   "cell_type": "code",
   "execution_count": 35,
   "id": "29c746a6-0234-47e8-abbb-a766057960f5",
   "metadata": {},
   "outputs": [
    {
     "name": "stdout",
     "output_type": "stream",
     "text": [
      "1\n"
     ]
    }
   ],
   "source": [
    "print(person.num_per)"
   ]
  },
  {
   "cell_type": "code",
   "execution_count": 36,
   "id": "8b876c01-da39-42a0-8a97-f148f27f92b0",
   "metadata": {},
   "outputs": [],
   "source": [
    "person_2 = person(\"mohame\",10)"
   ]
  },
  {
   "cell_type": "code",
   "execution_count": 37,
   "id": "a63c7936-7dc1-4fab-bdb8-237b0d5f7a03",
   "metadata": {},
   "outputs": [
    {
     "name": "stdout",
     "output_type": "stream",
     "text": [
      "2\n"
     ]
    }
   ],
   "source": [
    "print(person.num_per)"
   ]
  },
  {
   "cell_type": "code",
   "execution_count": 38,
   "id": "d31b5244-a0db-40bc-85c0-054adfb5e6ff",
   "metadata": {},
   "outputs": [],
   "source": [
    "person_3 = person(\"hhhh\",10)"
   ]
  },
  {
   "cell_type": "code",
   "execution_count": 39,
   "id": "1ab7b5d7-4891-45dc-b8f0-f21ffaf69656",
   "metadata": {},
   "outputs": [
    {
     "name": "stdout",
     "output_type": "stream",
     "text": [
      "3\n"
     ]
    }
   ],
   "source": [
    "print(person.num_per)"
   ]
  },
  {
   "cell_type": "code",
   "execution_count": null,
   "id": "305ef2ce-2147-41e4-848d-7e80f2abba43",
   "metadata": {},
   "outputs": [],
   "source": []
  },
  {
   "cell_type": "code",
   "execution_count": 43,
   "id": "96e657b7-dbd3-43f2-83d5-b2831678b026",
   "metadata": {},
   "outputs": [],
   "source": [
    "class person:\n",
    "    num_per=0\n",
    "    def __init__(self,name,age):\n",
    "        person.num_per+=1 \n",
    "        self.name=name\n",
    "        self.age=age\n",
    "    \n",
    "    def brak (self):\n",
    "        print(\"brak loly --> you\")\n",
    "        \n",
    "    def info (self):\n",
    "        print(\"this name is \",self.name,\"and age is\",self.age)"
   ]
  },
  {
   "cell_type": "code",
   "execution_count": null,
   "id": "f9212045-b5f3-4130-a2aa-feb7d81b4ca1",
   "metadata": {},
   "outputs": [],
   "source": []
  },
  {
   "cell_type": "code",
   "execution_count": 41,
   "id": "1df1f921-56b0-4be0-a13e-f47d9bc6eeba",
   "metadata": {},
   "outputs": [],
   "source": [
    "person_1=person(\"lyly\",67)"
   ]
  },
  {
   "cell_type": "code",
   "execution_count": 42,
   "id": "1e384a2b-bf77-403e-96c3-d1e34de47234",
   "metadata": {},
   "outputs": [
    {
     "name": "stdout",
     "output_type": "stream",
     "text": [
      "brak loly --> you\n"
     ]
    }
   ],
   "source": [
    "person_1.brak()"
   ]
  },
  {
   "cell_type": "code",
   "execution_count": 44,
   "id": "0a9d670b-1a72-4769-a1a7-dd90f3477fda",
   "metadata": {},
   "outputs": [],
   "source": [
    "per_2 =person(\"go\" , 90)"
   ]
  },
  {
   "cell_type": "code",
   "execution_count": 45,
   "id": "9ea01b8a-c778-4f18-a2c4-2eec4e61710f",
   "metadata": {},
   "outputs": [
    {
     "name": "stdout",
     "output_type": "stream",
     "text": [
      "this name is  go and age is 90\n"
     ]
    }
   ],
   "source": [
    "per_2.info()"
   ]
  },
  {
   "cell_type": "code",
   "execution_count": null,
   "id": "a48fd973-7c3b-433f-919d-e55a3854e4d8",
   "metadata": {},
   "outputs": [],
   "source": []
  },
  {
   "cell_type": "code",
   "execution_count": 13,
   "id": "5aef3567-ed4e-4cac-a9a6-9b15b8255cdb",
   "metadata": {},
   "outputs": [],
   "source": [
    "class student:\n",
    "    # global value \n",
    "    count_std = 0\n",
    "    \n",
    "    def __init__ (self,name,age,cla):\n",
    "        self.name =name\n",
    "        self.age =age\n",
    "        self.cla=cla\n",
    "        \n",
    "        student.count_std +=1\n",
    "        \n",
    "        \n",
    "        # instance method\n",
    "    def info(self):\n",
    "        print(\"std name\",self.name,\"age \",self.age,\"class\",self.cla)\n",
    "        \n",
    "\n",
    "       # Class method \n",
    "    \n",
    "    @classmethod\n",
    "    def no_of_std(cls):\n",
    "        print(cls.count_std)\n",
    "        \n",
    "    # Static method  \n",
    "    \n",
    "    @staticmethod\n",
    "    def count_no (list1):\n",
    "        for i in list1:\n",
    "            print(i)\n",
    "        \n"
   ]
  },
  {
   "cell_type": "code",
   "execution_count": 14,
   "id": "b1122fa5-2aeb-46d8-b300-135765f0d557",
   "metadata": {},
   "outputs": [],
   "source": [
    "st1 = student(\"loly\",7,9)\n",
    "st2 = student(\"mo\",8,1)\n",
    "st3 = student(\"no\",33,8)"
   ]
  },
  {
   "cell_type": "code",
   "execution_count": 15,
   "id": "f92faeb6-23c1-4d8b-b7ec-bea272314326",
   "metadata": {},
   "outputs": [
    {
     "name": "stdout",
     "output_type": "stream",
     "text": [
      "std name no age  33 class 8\n"
     ]
    }
   ],
   "source": [
    "st3.info()"
   ]
  },
  {
   "cell_type": "code",
   "execution_count": 16,
   "id": "7c6334bd-c453-4893-9247-d873d3ab11db",
   "metadata": {},
   "outputs": [
    {
     "name": "stdout",
     "output_type": "stream",
     "text": [
      "3\n"
     ]
    }
   ],
   "source": [
    "student.no_of_std()"
   ]
  },
  {
   "cell_type": "code",
   "execution_count": 6,
   "id": "4b07ba2f-4637-4e93-960c-365cb0f1116c",
   "metadata": {},
   "outputs": [
    {
     "name": "stdout",
     "output_type": "stream",
     "text": [
      "0\n",
      "1\n",
      "2\n",
      "3\n",
      "4\n",
      "5\n",
      "6\n",
      "7\n",
      "8\n",
      "9\n",
      "10\n",
      "11\n",
      "12\n",
      "13\n",
      "14\n",
      "15\n",
      "16\n",
      "17\n",
      "18\n",
      "19\n"
     ]
    }
   ],
   "source": [
    "student.count_no(range(0,20))"
   ]
  },
  {
   "cell_type": "code",
   "execution_count": null,
   "id": "93710981-0f05-4dda-839e-7aac34473268",
   "metadata": {},
   "outputs": [],
   "source": []
  },
  {
   "cell_type": "code",
   "execution_count": 20,
   "id": "6ed53976-3c1b-42bd-8028-4e8b77ea79b6",
   "metadata": {},
   "outputs": [],
   "source": [
    "class vehicle():\n",
    "    def __init__(self,color,speed):\n",
    "        self.color=color\n",
    "        self.speed = speed\n",
    "        \n",
    "        \n",
    "    def what_is_color(self):\n",
    "        print(\"Your color is \",self.color)\n",
    "        \n",
    "    def drive(self):\n",
    "        print(\"Your color is \"+ str (self.speed))"
   ]
  },
  {
   "cell_type": "code",
   "execution_count": 21,
   "id": "59ccfb75-4f5e-40dd-8410-e9bbb9e464a2",
   "metadata": {},
   "outputs": [],
   "source": [
    "hundai = vehicle(\"black\",150)"
   ]
  },
  {
   "cell_type": "code",
   "execution_count": 22,
   "id": "e2244581-2799-4217-a778-69fde08ff1d2",
   "metadata": {},
   "outputs": [
    {
     "name": "stdout",
     "output_type": "stream",
     "text": [
      "Your color is 150\n"
     ]
    }
   ],
   "source": [
    "hundai.drive()"
   ]
  },
  {
   "cell_type": "code",
   "execution_count": 23,
   "id": "497a5d3a-a712-473d-89f6-3c94a0a384b1",
   "metadata": {},
   "outputs": [
    {
     "name": "stdout",
     "output_type": "stream",
     "text": [
      "Your color is  black\n"
     ]
    }
   ],
   "source": [
    "hundai.what_is_color()"
   ]
  },
  {
   "cell_type": "code",
   "execution_count": 24,
   "id": "695e58be-389d-44ef-8505-741f00500c09",
   "metadata": {},
   "outputs": [
    {
     "data": {
      "text/plain": [
       "'black'"
      ]
     },
     "execution_count": 24,
     "metadata": {},
     "output_type": "execute_result"
    }
   ],
   "source": [
    "hundai.color"
   ]
  },
  {
   "cell_type": "code",
   "execution_count": 27,
   "id": "e73b6c6d-6355-431d-bf08-45bffabca55e",
   "metadata": {},
   "outputs": [],
   "source": [
    "class car(vehicle):\n",
    "    \n",
    "    def drive(self):\n",
    "        print(\"strat\",self.color)\n",
    "        \n",
    "class plane(vehicle):\n",
    "    \n",
    "    def drive(self):\n",
    "        print(\"i can fly\")\n",
    "    "
   ]
  },
  {
   "cell_type": "code",
   "execution_count": 28,
   "id": "050e1930-fc09-4431-96f2-1cd93d12f064",
   "metadata": {},
   "outputs": [],
   "source": [
    "mio = car(\"red\",90)"
   ]
  },
  {
   "cell_type": "code",
   "execution_count": 29,
   "id": "ee277c58-1454-4396-b4b6-0cb5999059be",
   "metadata": {},
   "outputs": [
    {
     "name": "stdout",
     "output_type": "stream",
     "text": [
      "strat red\n"
     ]
    }
   ],
   "source": [
    "mio.drive()"
   ]
  },
  {
   "cell_type": "code",
   "execution_count": 30,
   "id": "c15cb936-a5f3-4d3b-8964-0e301b9d2039",
   "metadata": {},
   "outputs": [],
   "source": [
    "pla = plane(\"yy \",70)"
   ]
  },
  {
   "cell_type": "code",
   "execution_count": 31,
   "id": "a3a80d60-c899-4f3e-8b1a-e90c98aa236c",
   "metadata": {},
   "outputs": [
    {
     "name": "stdout",
     "output_type": "stream",
     "text": [
      "i can fly\n"
     ]
    }
   ],
   "source": [
    "pla.drive()"
   ]
  },
  {
   "cell_type": "code",
   "execution_count": null,
   "id": "ebc5491a-8e6c-4684-be02-73614429cd7c",
   "metadata": {},
   "outputs": [],
   "source": []
  },
  {
   "cell_type": "code",
   "execution_count": null,
   "id": "a9fb5237-5093-4447-8ae9-26c267ad5f1a",
   "metadata": {},
   "outputs": [],
   "source": []
  },
  {
   "cell_type": "code",
   "execution_count": null,
   "id": "c78065d1-4263-401a-8693-e674952f2667",
   "metadata": {},
   "outputs": [],
   "source": []
  },
  {
   "cell_type": "code",
   "execution_count": null,
   "id": "8dad5e5c-b38f-40fb-8492-4d47b6b60095",
   "metadata": {},
   "outputs": [],
   "source": [
    "class par():"
   ]
  },
  {
   "cell_type": "code",
   "execution_count": null,
   "id": "8f5af1c5-6957-4fa7-add1-2f8b4433fa7f",
   "metadata": {},
   "outputs": [],
   "source": [
    "class son(par):"
   ]
  },
  {
   "cell_type": "code",
   "execution_count": null,
   "id": "5c237f20-5cc2-4064-aa80-73c0d47fa786",
   "metadata": {},
   "outputs": [],
   "source": []
  }
 ],
 "metadata": {
  "kernelspec": {
   "display_name": "Python 3 (ipykernel)",
   "language": "python",
   "name": "python3"
  },
  "language_info": {
   "codemirror_mode": {
    "name": "ipython",
    "version": 3
   },
   "file_extension": ".py",
   "mimetype": "text/x-python",
   "name": "python",
   "nbconvert_exporter": "python",
   "pygments_lexer": "ipython3",
   "version": "3.9.13"
  }
 },
 "nbformat": 4,
 "nbformat_minor": 5
}
