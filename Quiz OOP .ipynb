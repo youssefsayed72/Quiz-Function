{
 "cells": [
  {
   "cell_type": "markdown",
   "id": "1b7e756f-cdf2-4102-ae1e-fe8b43849c66",
   "metadata": {
    "tags": []
   },
   "source": [
    "## I need a Game for Car \n",
    "\n",
    "when i input start print \"I'm ready to go \"\n",
    "\n",
    "when i input stop print \"Car stop\"\n",
    "\n",
    "when i input Quit stop the game \n",
    "\n",
    "and add help to help him in this choise if he didn't know --> like a massage to till him"
   ]
  },
  {
   "cell_type": "code",
   "execution_count": null,
   "id": "71755509-4398-4184-ba95-e0fa17721713",
   "metadata": {},
   "outputs": [
    {
     "name": "stdout",
     "output_type": "stream",
     "text": [
      "your car is  nissan its colour is  red and its speed is  200\n"
     ]
    }
   ],
   "source": [
    "class car():\n",
    "    \n",
    "    def __init__(self, model, colour, speed):\n",
    "        self.model = model\n",
    "        self.colour = colour\n",
    "        self.speed = speed\n",
    "   \n",
    "    def car_info (self):\n",
    "        print ('your car is ', self.model, 'its colour is ', self.colour, 'and its speed is ', self.speed)\n",
    "    @staticmethod\n",
    "    def say_help():\n",
    "        print ('choose from start,stop,quit')\n",
    "        car.say_help()\n",
    "\n",
    "car1=car('nissan','red',200)\n",
    "car2=car('kia', 'black',210)\n",
    "car1.car_info()\n",
    "x= input('choose from the list')\n",
    "if x=='start':\n",
    "    print('i am ready to go')\n",
    "elif x=='stop':\n",
    "    print('car stop')\n",
    "elif x=='quit':\n",
    "    print ('stop the game')\n",
    "           \n",
    "    "
   ]
  },
  {
   "cell_type": "markdown",
   "id": "66397f40-91a5-4c2b-a612-094a6732e697",
   "metadata": {},
   "source": [
    "# I need math game \n",
    "\n",
    "when i choise any number give my the maltiplcation of it like \n",
    "\n",
    "1*1=1\n",
    "\n",
    "1*2=2\n",
    "\n",
    "1*3=3\n",
    "\n",
    "so on ..."
   ]
  },
  {
   "cell_type": "code",
   "execution_count": 1,
   "id": "a51e81f5-66bb-4bae-a5d7-e240c8ac710c",
   "metadata": {},
   "outputs": [
    {
     "name": "stdin",
     "output_type": "stream",
     "text": [
      "please put the desired number 5\n"
     ]
    },
    {
     "name": "stdout",
     "output_type": "stream",
     "text": [
      "1 x 5 = 5\n",
      "2 x 5 = 10\n",
      "3 x 5 = 15\n",
      "4 x 5 = 20\n",
      "5 x 5 = 25\n",
      "6 x 5 = 30\n",
      "7 x 5 = 35\n",
      "8 x 5 = 40\n",
      "9 x 5 = 45\n",
      "10 x 5 = 50\n",
      "11 x 5 = 55\n"
     ]
    }
   ],
   "source": [
    "class calcu():\n",
    "      def __init__(self, multin):\n",
    "        self.multin = multin\n",
    "        \n",
    "      def multin_info (multin):\n",
    "        i = int(input('please put the desired number'))\n",
    "        for num in range (1,12):\n",
    "            print (num , 'x', i, '=', num * i)\n",
    "\n",
    "calcu.multin_info(True)"
   ]
  },
  {
   "cell_type": "code",
   "execution_count": null,
   "id": "5f618201-4aca-40b4-8359-e9e70bb75b7a",
   "metadata": {},
   "outputs": [],
   "source": []
  },
  {
   "cell_type": "code",
   "execution_count": null,
   "id": "5440b63c-8126-4ee4-8fef-a952a9ea06f3",
   "metadata": {},
   "outputs": [],
   "source": []
  },
  {
   "cell_type": "code",
   "execution_count": null,
   "id": "fb8e75e7-8216-40ba-a6bf-d1bd1b5206d4",
   "metadata": {},
   "outputs": [],
   "source": []
  },
  {
   "cell_type": "code",
   "execution_count": null,
   "id": "b84d8494-51ce-43e7-b998-51b401ca27fe",
   "metadata": {},
   "outputs": [
    {
     "name": "stdout",
     "output_type": "stream",
     "text": [
      "choose from start,stop,quit\n"
     ]
    }
   ],
   "source": [
    "class game:\n",
    "    def __init__(self, car, maltiplcation):\n",
    "        self.game1 = car\n",
    "        self.game2 = maltiplcation\n",
    "       \n",
    "   \n",
    "    def car (self):\n",
    "        print ('you will play game1')\n",
    "    @staticmethod\n",
    "    def say_help():\n",
    "        print ('choose from start,stop,quit')\n",
    "game.say_help()\n",
    "\n",
    "x= input('choose from the list')\n",
    "if x=='start':\n",
    "    print('i am ready to go')\n",
    "elif x=='stop':\n",
    "    print('car stop')\n",
    "elif x=='quit':\n",
    "    print ('stop the game')\n",
    "    \n",
    "    def maltiplcation (self):\n",
    "        i = int(input('please put the desired number'))\n",
    "        for num in range (1,12):\n",
    "            print (num , 'x', i, '=', num * i)\n",
    "\n",
    "game1=('car')\n",
    "game2=('maltiplcation')\n",
    "\n",
    "\n",
    "\n"
   ]
  },
  {
   "cell_type": "code",
   "execution_count": null,
   "id": "52ff0b30-21a4-4349-b5e4-3cc85f478d60",
   "metadata": {},
   "outputs": [],
   "source": []
  }
 ],
 "metadata": {
  "kernelspec": {
   "display_name": "Python 3 (ipykernel)",
   "language": "python",
   "name": "python3"
  },
  "language_info": {
   "codemirror_mode": {
    "name": "ipython",
    "version": 3
   },
   "file_extension": ".py",
   "mimetype": "text/x-python",
   "name": "python",
   "nbconvert_exporter": "python",
   "pygments_lexer": "ipython3",
   "version": "3.9.13"
  }
 },
 "nbformat": 4,
 "nbformat_minor": 5
}
